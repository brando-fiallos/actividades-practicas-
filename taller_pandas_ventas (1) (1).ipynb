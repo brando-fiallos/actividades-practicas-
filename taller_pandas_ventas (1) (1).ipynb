{
 "cells": [
  {
   "cell_type": "markdown",
   "id": "6182a772",
   "metadata": {},
   "source": [
    "# 🐼 Taller de Pandas: Análisis de Datos de Ventas\n",
    "\n",
    "Bienvenido al taller interactivo de Pandas. En esta clase de 2 horas aprenderás a manipular, analizar y visualizar datos usando Python y Pandas.\n",
    "\n",
    "---\n",
    "\n",
    "## 🎯 Objetivos\n",
    "- Explorar y limpiar datos con Pandas.\n",
    "- Realizar análisis exploratorio de datos.\n",
    "- Visualizar patrones y tendencias.\n",
    "- Resolver desafíos en equipo.\n",
    "\n",
    "---\n",
    "\n",
    "## 📦 Dataset\n",
    "Simularemos un conjunto de datos de ventas con las siguientes columnas:\n",
    "\n",
    "- `Fecha`\n",
    "- `Producto`\n",
    "- `Categoría`\n",
    "- `Región`\n",
    "- `Cliente`\n",
    "- `Cantidad`\n",
    "- `Precio Unitario`\n",
    "- `Total Venta`\n",
    "\n",
    "¡Comencemos! 🚀\n"
   ]
  },
  {
   "cell_type": "code",
   "execution_count": null,
   "id": "e2bb5b7e",
   "metadata": {},
   "outputs": [],
   "source": [
    "\n",
    "import pandas as pd\n",
    "import numpy as np\n",
    "from datetime import datetime, timedelta\n",
    "import random\n",
    "\n",
    "# Parámetros\n",
    "productos = ['Laptop', 'Tablet', 'Smartphone', 'Monitor', 'Teclado', 'Mouse']\n",
    "categorias = {'Laptop': 'Electrónica', 'Tablet': 'Electrónica', 'Smartphone': 'Electrónica',\n",
    "              'Monitor': 'Accesorios', 'Teclado': 'Accesorios', 'Mouse': 'Accesorios'}\n",
    "regiones = ['Norte', 'Sur', 'Este', 'Oeste']\n",
    "clientes = [f'Cliente_{i}' for i in range(1, 21)]\n",
    "\n",
    "# Generar datos\n",
    "np.random.seed(42)\n",
    "fechas = [datetime(2023, 1, 1) + timedelta(days=random.randint(0, 364)) for _ in range(500)]\n",
    "productos_sample = [random.choice(productos) for _ in range(500)]\n",
    "categorias_sample = [categorias[p] for p in productos_sample]\n",
    "regiones_sample = [random.choice(regiones) for _ in range(500)]\n",
    "clientes_sample = [random.choice(clientes) for _ in range(500)]\n",
    "cantidades = np.random.randint(1, 10, size=500)\n",
    "precios_unitarios = [random.randint(100, 1000) for _ in range(500)]\n",
    "total_venta = [c * p for c, p in zip(cantidades, precios_unitarios)]\n",
    "\n",
    "# Crear DataFrame\n",
    "df = pd.DataFrame({\n",
    "    'Fecha': fechas,\n",
    "    'Producto': productos_sample,\n",
    "    'Categoría': categorias_sample,\n",
    "    'Región': regiones_sample,\n",
    "    'Cliente': clientes_sample,\n",
    "    'Cantidad': cantidades,\n",
    "    'Precio Unitario': precios_unitarios,\n",
    "    'Total Venta': total_venta\n",
    "})\n",
    "\n",
    "df.head()\n"
   ]
  },
  {
   "cell_type": "markdown",
   "id": "899707a6",
   "metadata": {},
   "source": [
    "## 🔍 Exploración Inicial\n",
    "\n",
    "Veamos las primeras filas, tipos de datos y valores nulos.\n"
   ]
  },
  {
   "cell_type": "code",
   "execution_count": null,
   "id": "7e77dccb",
   "metadata": {},
   "outputs": [],
   "source": [
    "\n",
    "df.info()\n",
    "df.describe()\n",
    "df.isnull().sum()\n"
   ]
  },
  {
   "cell_type": "markdown",
   "id": "687216ee",
   "metadata": {},
   "source": [
    "## 🧪 Ejercicios Guiados\n",
    "\n",
    "1. ¿Cuántas ventas se realizaron por región?\n",
    "2. ¿Cuál fue el ingreso total por categoría?\n",
    "3. ¿Qué cliente compró más veces?\n"
   ]
  },
  {
   "cell_type": "code",
   "execution_count": null,
   "id": "29c7c0af",
   "metadata": {},
   "outputs": [],
   "source": [
    "\n",
    "# 1. Ventas por región\n",
    "print(df['Región'].value_counts())\n",
    "\n",
    "# 2. Ingreso total por categoría\n",
    "print(df.groupby('Categoría')['Total Venta'].sum())\n",
    "\n",
    "# 3. Cliente con más compras\n",
    "print(df['Cliente'].value_counts().head(1))\n"
   ]
  },
  {
   "cell_type": "markdown",
   "id": "5c3742b4",
   "metadata": {},
   "source": [
    "## 📊 Visualización de Datos\n",
    "\n",
    "Vamos a crear algunos gráficos para entender mejor los datos.\n"
   ]
  },
  {
   "cell_type": "code",
   "execution_count": null,
   "id": "7292b91a",
   "metadata": {},
   "outputs": [],
   "source": [
    "\n",
    "import matplotlib.pyplot as plt\n",
    "import seaborn as sns\n",
    "\n",
    "# Ventas por región\n",
    "df['Región'].value_counts().plot(kind='bar', title='Ventas por Región')\n",
    "plt.show()\n",
    "\n",
    "# Ingreso por categoría\n",
    "df.groupby('Categoría')['Total Venta'].sum().plot(kind='pie', autopct='%1.1f%%', title='Ingresos por Categoría')\n",
    "plt.ylabel('')\n",
    "plt.show()\n",
    "\n",
    "# Mapa de calor de correlación\n",
    "sns.heatmap(df[['Cantidad', 'Precio Unitario', 'Total Venta']].corr(), annot=True, cmap='coolwarm')\n",
    "plt.title('Correlación entre variables')\n",
    "plt.show()\n"
   ]
  },
  {
   "cell_type": "markdown",
   "id": "5e2b6cf5",
   "metadata": {},
   "source": [
    "## 🤝 Desafíos por Equipos\n",
    "\n",
    "Trabaja en grupo para resolver los siguientes desafíos:\n",
    "\n",
    "1. ¿Cuál es el producto más vendido por región?\n",
    "2. ¿Qué mes tuvo más ingresos?\n",
    "3. ¿Qué cliente generó más ingresos?\n",
    "\n",
    "Usa `groupby`, `agg`, `sort_values` y `dt.month` para resolverlos.\n"
   ]
  },
  {
   "cell_type": "code",
   "execution_count": null,
   "id": "753316cd-112c-4faf-ab8d-732faba81e13",
   "metadata": {},
   "outputs": [],
   "source": [
    "# 1. Producto más vendido por región\n",
    "print(\"\\nProducto más vendido por región:\")\n",
    "resultado1 = df.groupby(['Región', 'Producto'])['Cantidad'].sum().reset_index()\n",
    "resultado1 = resultado1.loc[resultado1.groupby('Región')['Cantidad'].idxmax()]\n",
    "print(resultado1[['Región', 'Producto', 'Cantidad']])"
   ]
  },
  {
   "cell_type": "code",
   "execution_count": null,
   "id": "fb42e350-adb8-4ef1-a36f-fabba68078f5",
   "metadata": {},
   "outputs": [],
   "source": [
    "# 2. Mes con más ingresos\n",
    "print(\"\\nMes con más ingresos:\")\n",
    "df['Mes'] = df['Fecha'].dt.month\n",
    "ingresos_por_mes = df.groupby('Mes')['Total Venta'].sum().reset_index()\n",
    "mes_max_ingresos = ingresos_por_mes.loc[ingresos_por_mes['Total Venta'].idxmax()]\n",
    "print(f\"Mes {mes_max_ingresos['Mes']} con ${mes_max_ingresos['Total Venta']:,.2f} en ingresos\")"
   ]
  },
  {
   "cell_type": "code",
   "execution_count": null,
   "id": "cdaa339b-4940-480e-b5b3-178240989b39",
   "metadata": {},
   "outputs": [],
   "source": [
    "# 3. Cliente que generó más ingresos\n",
    "print(\"\\nCliente que generó más ingresos:\")\n",
    "cliente_max_ingresos = df.groupby('Cliente')['Total Venta'].sum().nlargest(1)\n",
    "print(cliente_max_ingresos)"
   ]
  },
  {
   "cell_type": "markdown",
   "id": "51650377",
   "metadata": {},
   "source": [
    "## 🧩 Reto Final: Misterio de Datos\n",
    "\n",
    "Encuentra una anomalía o patrón interesante en los datos. Algunas ideas:\n",
    "\n",
    "- ¿Hay algún cliente que solo compra un producto?\n",
    "- ¿Algún producto tiene un precio unitario inusualmente alto?\n",
    "- ¿Hay días con ventas inusualmente altas?\n",
    "\n",
    "¡Sé creativo y presenta tus hallazgos!\n"
   ]
  },
  {
   "cell_type": "code",
   "execution_count": null,
   "id": "bdcdd345-f4c9-4cf9-a8bc-471bbd373c18",
   "metadata": {},
   "outputs": [],
   "source": [
    "# Análisis de anomalías\n",
    "print(\"\\nAnálisis de anomalías:\")\n",
    "\n",
    "# 1. Clientes que solo compran un producto\n",
    "clientes_un_producto = df.groupby('Cliente')['Producto'].nunique()\n",
    "clientes_exclusivos = clientes_un_producto[clientes_un_producto == 1]\n",
    "print(f\"\\nClientes que solo compran un producto ({len(clientes_exclusivos)}):\")\n",
    "print(clientes_exclusivos)"
   ]
  },
  {
   "cell_type": "code",
   "execution_count": null,
   "id": "5b0b0247-4cff-4481-b665-4b0d51f69e7f",
   "metadata": {},
   "outputs": [],
   "source": [
    "# 2. Productos con precios inusualmente altos\n",
    "precio_umbral = df['Precio Unitario'].quantile(0.99)\n",
    "productos_caros = df[df['Precio Unitario'] > precio_umbral]['Producto'].unique()\n",
    "print(f\"\\nProductos con precios superiores al percentil 99 (${precio_umbral:.2f}):\")\n",
    "print(productos_caros)\n"
   ]
  },
  {
   "cell_type": "code",
   "execution_count": null,
   "id": "b2edb871-2f5a-4b8c-976f-060d42f01e1d",
   "metadata": {},
   "outputs": [],
   "source": [
    "\n",
    "\n",
    "# Visualización de días con altas ventas\n",
    "plt.figure(figsize=(12, 6))\n",
    "ventas_por_dia.plot(color='blue', alpha=0.7, label='Ventas diarias')\n",
    "plt.axhline(y=venta_umbral, color='red', linestyle='--', label='Umbral de ventas altas')\n",
    "plt.scatter(\n",
    "    dias_altas_ventas.index,\n",
    "    dias_altas_ventas.values,\n",
    "    color='red',\n",
    "    s=100,\n",
    "    label='Días con ventas altas'\n",
    ")\n",
    "plt.title('Ventas Diarias y Días con Ventas Excepcionales', fontsize=14)\n",
    "plt.xlabel('Fecha', fontsize=12)\n",
    "plt.ylabel('Total de Ventas ($)', fontsize=12)\n",
    "plt.legend()\n",
    "plt.grid(True, linestyle='--', alpha=0.7)\n",
    "plt.xticks(rotation=45)\n",
    "plt.tight_layout()\n",
    "plt.show()"
   ]
  },
  {
   "cell_type": "markdown",
   "id": "54590269",
   "metadata": {},
   "source": [
    "## ✅ Cierre y Reflexión\n",
    "\n",
    "- ¿Qué aprendiste hoy?\n",
    "- ¿Qué fue lo más desafiante?\n",
    "- ¿Cómo aplicarías Pandas en tu trabajo o estudios?\n",
    "\n",
    "¡Gracias por participar! 🎉\n"
   ]
  }
 ],
 "metadata": {
  "kernelspec": {
   "display_name": "Python [conda env:anaconda3] *",
   "language": "python",
   "name": "conda-env-anaconda3-py"
  },
  "language_info": {
   "codemirror_mode": {
    "name": "ipython",
    "version": 3
   },
   "file_extension": ".py",
   "mimetype": "text/x-python",
   "name": "python",
   "nbconvert_exporter": "python",
   "pygments_lexer": "ipython3",
   "version": "3.13.5"
  }
 },
 "nbformat": 4,
 "nbformat_minor": 5
}
